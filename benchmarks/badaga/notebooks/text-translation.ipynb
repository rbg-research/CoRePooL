{
 "cells": [
  {
   "cell_type": "markdown",
   "metadata": {},
   "source": [
    "# Text-Translation"
   ]
  },
  {
   "cell_type": "markdown",
   "metadata": {},
   "source": [
    "# Loading the Dependencies"
   ]
  },
  {
   "cell_type": "code",
   "execution_count": 1,
   "metadata": {},
   "outputs": [
    {
     "name": "stdout",
     "output_type": "stream",
     "text": [
      "4.13.0\n"
     ]
    }
   ],
   "source": [
    "# importing the transformers\n",
    "import transformers\n",
    "\n",
    "print(transformers.__version__)"
   ]
  },
  {
   "cell_type": "code",
   "execution_count": 2,
   "metadata": {},
   "outputs": [],
   "source": [
    "# defining the model checkpoint\n",
    "model_checkpoint = \"Helsinki-NLP/opus-mt-en-ro\""
   ]
  },
  {
   "cell_type": "code",
   "execution_count": 3,
   "metadata": {},
   "outputs": [],
   "source": [
    "# importing the libraries\n",
    "import os\n",
    "import pandas as pd\n",
    "import re\n",
    "import librosa\n",
    "from datasets import Dataset"
   ]
  },
  {
   "cell_type": "markdown",
   "metadata": {},
   "source": [
    "# Loading the Dataset"
   ]
  },
  {
   "cell_type": "code",
   "execution_count": 4,
   "metadata": {},
   "outputs": [],
   "source": [
    "# defining the root directory\n",
    "data_directory = \"../Badaga_Corpus-v.0.1.0/\"\n",
    "tagged_file = \"Badaga-v0.1.0.xlsx\""
   ]
  },
  {
   "cell_type": "code",
   "execution_count": 5,
   "metadata": {},
   "outputs": [],
   "source": [
    "# loading the dataset\n",
    "tagged_file_path = os.path.join(data_directory, tagged_file)\n",
    "\n",
    "# loading the transcription file\n",
    "data_frame = pd.read_excel(tagged_file_path)\n",
    "\n",
    "# droping the missing values\n",
    "data_frame.dropna(inplace=True)\n",
    "\n",
    "# loading the audio file\n",
    "data_frame[\"audio_file_name\"] = data_frame[\"audio_file_name\"].apply(lambda x: os.path.join(data_directory, \"clips\", x))\n",
    "\n",
    "# loading the train, test and validate sets using split_label from transcription\n",
    "train_df = data_frame[data_frame[\"split_label\"]==\"train\"]\n",
    "valid_df = data_frame[data_frame[\"split_label\"]==\"validation\"]\n",
    "test_df = data_frame[data_frame[\"split_label\"]==\"test\"]"
   ]
  },
  {
   "cell_type": "code",
   "execution_count": 6,
   "metadata": {},
   "outputs": [],
   "source": [
    "# defining function fortaking both tranlated and trasliterated text and keep them as a list\n",
    "def get_pairs(df):\n",
    "    item1 = list(df[\"translated_transcript\"])\n",
    "    item2 = list(df[\"translterated_script\"])\n",
    "    temp_list = list()\n",
    "    for i1, i2 in zip(item1, item2):\n",
    "        temp_list.append({\"en\": i1, \"bad\": i2})\n",
    "    return temp_list"
   ]
  },
  {
   "cell_type": "code",
   "execution_count": 7,
   "metadata": {},
   "outputs": [],
   "source": [
    "# creating the training pairs, testing pairs and validation pairs from the above defined function\n",
    "train_pairs = get_pairs(train_df)\n",
    "valid_pairs = get_pairs(valid_df)\n",
    "test_pairs = get_pairs(test_df)"
   ]
  },
  {
   "cell_type": "code",
   "execution_count": 8,
   "metadata": {},
   "outputs": [],
   "source": [
    "# creating the dictionary of pairs and saving it as csv files for training, testing and validation\n",
    "new_train_df = pd.DataFrame.from_dict({'translation': train_pairs})\n",
    "new_train_df = new_train_df.reset_index(drop=True)\n",
    "new_train_df.to_csv(\"files/translation_train.csv\", sep=\"\\t\", encoding=\"utf-8\", index=False)\n",
    "\n",
    "new_valid_df = pd.DataFrame.from_dict({'translation': valid_pairs})\n",
    "new_valid_df = new_valid_df.reset_index(drop=True)\n",
    "new_valid_df.to_csv(\"files/translation_valid.csv\", sep=\"\\t\", encoding=\"utf-8\", index=False)\n",
    "\n",
    "new_test_df = pd.DataFrame.from_dict({'translation': test_pairs})\n",
    "new_test_df = new_test_df.reset_index(drop=True)\n",
    "new_test_df.to_csv(\"files/translation_test.csv\", sep=\"\\t\", encoding=\"utf-8\", index=False)"
   ]
  },
  {
   "cell_type": "code",
   "execution_count": 9,
   "metadata": {},
   "outputs": [
    {
     "name": "stderr",
     "output_type": "stream",
     "text": [
      "Using custom data configuration default-f5d83bfffc4b907f\n"
     ]
    },
    {
     "name": "stdout",
     "output_type": "stream",
     "text": [
      "Downloading and preparing dataset csv/default to /home/ubuntu/.cache/huggingface/datasets/csv/default-f5d83bfffc4b907f/0.0.0/bf68a4c4aefa545d0712b2fcbb1b327f905bbe2f6425fbc5e8c25234acb9e14a...\n"
     ]
    },
    {
     "data": {
      "application/vnd.jupyter.widget-view+json": {
       "model_id": "5ec2d959506c402c99cdb98406d5fc93",
       "version_major": 2,
       "version_minor": 0
      },
      "text/plain": [
       "  0%|          | 0/3 [00:00<?, ?it/s]"
      ]
     },
     "metadata": {},
     "output_type": "display_data"
    },
    {
     "data": {
      "application/vnd.jupyter.widget-view+json": {
       "model_id": "9baedd6e4ee54876946773ee324ceaa4",
       "version_major": 2,
       "version_minor": 0
      },
      "text/plain": [
       "  0%|          | 0/3 [00:00<?, ?it/s]"
      ]
     },
     "metadata": {},
     "output_type": "display_data"
    },
    {
     "name": "stdout",
     "output_type": "stream",
     "text": [
      "Dataset csv downloaded and prepared to /home/ubuntu/.cache/huggingface/datasets/csv/default-f5d83bfffc4b907f/0.0.0/bf68a4c4aefa545d0712b2fcbb1b327f905bbe2f6425fbc5e8c25234acb9e14a. Subsequent calls will reuse this data.\n"
     ]
    },
    {
     "data": {
      "application/vnd.jupyter.widget-view+json": {
       "model_id": "0a4879893407422fa3025597fc8b0fa7",
       "version_major": 2,
       "version_minor": 0
      },
      "text/plain": [
       "  0%|          | 0/3 [00:00<?, ?it/s]"
      ]
     },
     "metadata": {},
     "output_type": "display_data"
    }
   ],
   "source": [
    "# Loading the created dataset using datasets\n",
    "from datasets import load_dataset, load_metric\n",
    "\n",
    "\n",
    "data_files = {\n",
    "    \"train\": \"files/translation_train.csv\", \n",
    "    \"validation\": \"files/translation_valid.csv\",\n",
    "    \"test\": \"files/translation_test.csv\"\n",
    "}\n",
    "\n",
    "raw_datasets  = load_dataset(\"csv\", data_files=data_files, delimiter=\"\\t\", )\n",
    "metric = load_metric(\"sacrebleu\")"
   ]
  },
  {
   "cell_type": "code",
   "execution_count": 10,
   "metadata": {},
   "outputs": [],
   "source": [
    "# function to pair the 'en' and 'ba' sentences and save them as list\n",
    "import datasets\n",
    "import random\n",
    "import pandas as pd\n",
    "from IPython.display import display, HTML\n",
    "\n",
    "def show_random_elements(dataset, num_examples=5):\n",
    "    assert num_examples <= len(dataset), \"Can't pick more elements than there are in the dataset.\"\n",
    "    picks = []\n",
    "    for _ in range(num_examples):\n",
    "        pick = random.randint(0, len(dataset)-1)\n",
    "        while pick in picks:\n",
    "            pick = random.randint(0, len(dataset)-1)\n",
    "        picks.append(pick)\n",
    "    \n",
    "    df = pd.DataFrame(dataset[picks])\n",
    "    for column, typ in dataset.features.items():\n",
    "        if isinstance(typ, datasets.ClassLabel):\n",
    "            df[column] = df[column].transform(lambda i: typ.names[i])\n",
    "    display(HTML(df.to_html()))"
   ]
  },
  {
   "cell_type": "code",
   "execution_count": 11,
   "metadata": {},
   "outputs": [
    {
     "data": {
      "text/html": [
       "<table border=\"1\" class=\"dataframe\">\n",
       "  <thead>\n",
       "    <tr style=\"text-align: right;\">\n",
       "      <th></th>\n",
       "      <th>translation</th>\n",
       "    </tr>\n",
       "  </thead>\n",
       "  <tbody>\n",
       "    <tr>\n",
       "      <th>0</th>\n",
       "      <td>{'en': 'comb your hair', 'bad': 'mandae gooru'}</td>\n",
       "    </tr>\n",
       "    <tr>\n",
       "      <th>1</th>\n",
       "      <td>{'en': 'comeon comeon', 'bad': 'baarivi baarivi'}</td>\n",
       "    </tr>\n",
       "    <tr>\n",
       "      <th>2</th>\n",
       "      <td>{'en': 'this monkey is so distrubing', 'bad': 'koda appara imisai maadira'}</td>\n",
       "    </tr>\n",
       "    <tr>\n",
       "      <th>3</th>\n",
       "      <td>{'en': 'outside it is there', 'bad': 'horasu hadathae'}</td>\n",
       "    </tr>\n",
       "    <tr>\n",
       "      <th>4</th>\n",
       "      <td>{'en': 'how many people are there in your house', 'bad': 'ninga maennaya aesaga edhi'}</td>\n",
       "    </tr>\n",
       "  </tbody>\n",
       "</table>"
      ],
      "text/plain": [
       "<IPython.core.display.HTML object>"
      ]
     },
     "metadata": {},
     "output_type": "display_data"
    }
   ],
   "source": [
    "# printing the pairs created above\n",
    "show_random_elements(raw_datasets[\"train\"])"
   ]
  },
  {
   "cell_type": "code",
   "execution_count": 12,
   "metadata": {},
   "outputs": [],
   "source": [
    "# auto tokenzing\n",
    "from transformers import AutoTokenizer\n",
    "    \n",
    "tokenizer = AutoTokenizer.from_pretrained(model_checkpoint)"
   ]
  },
  {
   "cell_type": "markdown",
   "metadata": {},
   "source": [
    "## English to Badaga Translation"
   ]
  },
  {
   "cell_type": "code",
   "execution_count": 13,
   "metadata": {},
   "outputs": [],
   "source": [
    "# defining the pre-process function\n",
    "max_input_length = 128\n",
    "max_target_length = 128\n",
    "source_lang = 'en'\n",
    "target_lang = 'bad'\n",
    "prefix = \"\"\n",
    "import ast\n",
    "def preprocess_function(examples):\n",
    "    inputs = [ast.literal_eval(ex)[source_lang] for ex in examples[\"translation\"]]\n",
    "    targets = [ast.literal_eval(ex)[target_lang] for ex in examples[\"translation\"]]\n",
    "    model_inputs = tokenizer(inputs, max_length=max_input_length, truncation=True)\n",
    "\n",
    "    # Setup the tokenizer for targets\n",
    "    with tokenizer.as_target_tokenizer():\n",
    "        labels = tokenizer(targets, max_length=max_target_length, truncation=True)\n",
    "\n",
    "    model_inputs[\"labels\"] = labels[\"input_ids\"]\n",
    "    return model_inputs"
   ]
  },
  {
   "cell_type": "code",
   "execution_count": 14,
   "metadata": {},
   "outputs": [
    {
     "data": {
      "text/plain": [
       "{'input_ids': [[106, 32, 4, 18068, 20, 540, 0], [202, 32, 147, 2269, 16, 0]], 'attention_mask': [[1, 1, 1, 1, 1, 1, 1], [1, 1, 1, 1, 1, 1]], 'labels': [[8372, 2620, 8, 4868, 15, 2188, 1311, 1802, 0], [166, 1804, 1802, 352, 4222, 21, 11197, 110, 99, 4222, 21, 35, 0]]}"
      ]
     },
     "execution_count": 14,
     "metadata": {},
     "output_type": "execute_result"
    }
   ],
   "source": [
    "# printing the preprocess_function\n",
    "preprocess_function(raw_datasets['train'][:2])"
   ]
  },
  {
   "cell_type": "code",
   "execution_count": 15,
   "metadata": {},
   "outputs": [
    {
     "data": {
      "application/vnd.jupyter.widget-view+json": {
       "model_id": "0b8bd0d30bc04a969ebf0e36d4f78f04",
       "version_major": 2,
       "version_minor": 0
      },
      "text/plain": [
       "  0%|          | 0/7 [00:00<?, ?ba/s]"
      ]
     },
     "metadata": {},
     "output_type": "display_data"
    },
    {
     "data": {
      "application/vnd.jupyter.widget-view+json": {
       "model_id": "cf117316525d4b3c8f5331c2a75713a5",
       "version_major": 2,
       "version_minor": 0
      },
      "text/plain": [
       "  0%|          | 0/2 [00:00<?, ?ba/s]"
      ]
     },
     "metadata": {},
     "output_type": "display_data"
    },
    {
     "data": {
      "application/vnd.jupyter.widget-view+json": {
       "model_id": "ba19636f956e4f91a76b0b9639814842",
       "version_major": 2,
       "version_minor": 0
      },
      "text/plain": [
       "  0%|          | 0/2 [00:00<?, ?ba/s]"
      ]
     },
     "metadata": {},
     "output_type": "display_data"
    }
   ],
   "source": [
    "# mapping preprocess_function\n",
    "tokenized_datasets = raw_datasets.map(preprocess_function, batched=True)"
   ]
  },
  {
   "cell_type": "code",
   "execution_count": 16,
   "metadata": {},
   "outputs": [],
   "source": [
    "# loading the model\n",
    "from transformers import AutoModelForSeq2SeqLM, DataCollatorForSeq2Seq, Seq2SeqTrainingArguments, Seq2SeqTrainer\n",
    "\n",
    "model = AutoModelForSeq2SeqLM.from_pretrained(model_checkpoint)"
   ]
  },
  {
   "cell_type": "code",
   "execution_count": 17,
   "metadata": {},
   "outputs": [],
   "source": [
    "# setting up the traning arguments\n",
    "batch_size = 16\n",
    "model_name = model_checkpoint.split(\"/\")[-1]\n",
    "args = Seq2SeqTrainingArguments(\n",
    "    \"opus-mt-rbg-en-to-bad\",\n",
    "    evaluation_strategy = \"epoch\",\n",
    "    learning_rate=2e-5,\n",
    "    per_device_train_batch_size=batch_size,\n",
    "    per_device_eval_batch_size=batch_size,\n",
    "    weight_decay=0.01,\n",
    "    save_total_limit=3,\n",
    "    num_train_epochs=10,\n",
    "    save_steps=100,\n",
    "    logging_steps=10,\n",
    "    predict_with_generate=True,\n",
    "    fp16=True,\n",
    "    push_to_hub=False,\n",
    ")"
   ]
  },
  {
   "cell_type": "code",
   "execution_count": 18,
   "metadata": {},
   "outputs": [],
   "source": [
    "# calling data collator function\n",
    "data_collator = DataCollatorForSeq2Seq(tokenizer, model=model)"
   ]
  },
  {
   "cell_type": "code",
   "execution_count": 19,
   "metadata": {},
   "outputs": [],
   "source": [
    "# computing metrics for evaluation\n",
    "import numpy as np\n",
    "\n",
    "def postprocess_text(preds, labels):\n",
    "    preds = [pred.strip() for pred in preds]\n",
    "    labels = [[label.strip()] for label in labels]\n",
    "\n",
    "    return preds, labels\n",
    "\n",
    "def compute_metrics(eval_preds):\n",
    "    preds, labels = eval_preds\n",
    "    if isinstance(preds, tuple):\n",
    "        preds = preds[0]\n",
    "    decoded_preds = tokenizer.batch_decode(preds, skip_special_tokens=True)\n",
    "\n",
    "    # Replace -100 in the labels as we can't decode them.\n",
    "    labels = np.where(labels != -100, labels, tokenizer.pad_token_id)\n",
    "    decoded_labels = tokenizer.batch_decode(labels, skip_special_tokens=True)\n",
    "\n",
    "    # Some simple post-processing\n",
    "    decoded_preds, decoded_labels = postprocess_text(decoded_preds, decoded_labels)\n",
    "\n",
    "    result = metric.compute(predictions=decoded_preds, references=decoded_labels)\n",
    "    result = {\"bleu\": result[\"score\"]}\n",
    "\n",
    "    prediction_lens = [np.count_nonzero(pred != tokenizer.pad_token_id) for pred in preds]\n",
    "    result[\"gen_len\"] = np.mean(prediction_lens)\n",
    "    result = {k: round(v, 4) for k, v in result.items()}\n",
    "    return result"
   ]
  },
  {
   "cell_type": "code",
   "execution_count": 20,
   "metadata": {},
   "outputs": [
    {
     "name": "stderr",
     "output_type": "stream",
     "text": [
      "Using amp half precision backend\n"
     ]
    }
   ],
   "source": [
    "# setting up tranier \n",
    "trainer = Seq2SeqTrainer(\n",
    "    model,\n",
    "    args,\n",
    "    train_dataset=tokenized_datasets[\"train\"],\n",
    "    eval_dataset=tokenized_datasets[\"validation\"],\n",
    "    data_collator=data_collator,\n",
    "    tokenizer=tokenizer,\n",
    "    compute_metrics=compute_metrics\n",
    ")"
   ]
  },
  {
   "cell_type": "code",
   "execution_count": 21,
   "metadata": {},
   "outputs": [
    {
     "name": "stderr",
     "output_type": "stream",
     "text": [
      "The following columns in the training set  don't have a corresponding argument in `MarianMTModel.forward` and have been ignored: translation.\n",
      "***** Running training *****\n",
      "  Num examples = 6895\n",
      "  Num Epochs = 10\n",
      "  Instantaneous batch size per device = 16\n",
      "  Total train batch size (w. parallel, distributed & accumulation) = 16\n",
      "  Gradient Accumulation steps = 1\n",
      "  Total optimization steps = 4310\n"
     ]
    },
    {
     "data": {
      "text/html": [
       "\n",
       "    <div>\n",
       "      \n",
       "      <progress value='4310' max='4310' style='width:300px; height:20px; vertical-align: middle;'></progress>\n",
       "      [4310/4310 1:50:05, Epoch 10/10]\n",
       "    </div>\n",
       "    <table border=\"1\" class=\"dataframe\">\n",
       "  <thead>\n",
       "    <tr style=\"text-align: left;\">\n",
       "      <th>Epoch</th>\n",
       "      <th>Training Loss</th>\n",
       "      <th>Validation Loss</th>\n",
       "      <th>Bleu</th>\n",
       "      <th>Gen Len</th>\n",
       "    </tr>\n",
       "  </thead>\n",
       "  <tbody>\n",
       "    <tr>\n",
       "      <td>1</td>\n",
       "      <td>1.666000</td>\n",
       "      <td>1.568450</td>\n",
       "      <td>30.728500</td>\n",
       "      <td>15.521800</td>\n",
       "    </tr>\n",
       "    <tr>\n",
       "      <td>2</td>\n",
       "      <td>1.110300</td>\n",
       "      <td>0.982472</td>\n",
       "      <td>40.672700</td>\n",
       "      <td>14.636100</td>\n",
       "    </tr>\n",
       "    <tr>\n",
       "      <td>3</td>\n",
       "      <td>0.781200</td>\n",
       "      <td>0.656353</td>\n",
       "      <td>52.199600</td>\n",
       "      <td>14.026500</td>\n",
       "    </tr>\n",
       "    <tr>\n",
       "      <td>4</td>\n",
       "      <td>0.551600</td>\n",
       "      <td>0.469279</td>\n",
       "      <td>61.888500</td>\n",
       "      <td>14.043500</td>\n",
       "    </tr>\n",
       "    <tr>\n",
       "      <td>5</td>\n",
       "      <td>0.403400</td>\n",
       "      <td>0.349163</td>\n",
       "      <td>73.479500</td>\n",
       "      <td>14.067300</td>\n",
       "    </tr>\n",
       "    <tr>\n",
       "      <td>6</td>\n",
       "      <td>0.307800</td>\n",
       "      <td>0.279488</td>\n",
       "      <td>79.435400</td>\n",
       "      <td>14.076200</td>\n",
       "    </tr>\n",
       "    <tr>\n",
       "      <td>7</td>\n",
       "      <td>0.266800</td>\n",
       "      <td>0.236043</td>\n",
       "      <td>83.017600</td>\n",
       "      <td>14.111600</td>\n",
       "    </tr>\n",
       "    <tr>\n",
       "      <td>8</td>\n",
       "      <td>0.208000</td>\n",
       "      <td>0.211551</td>\n",
       "      <td>85.522700</td>\n",
       "      <td>14.121100</td>\n",
       "    </tr>\n",
       "    <tr>\n",
       "      <td>9</td>\n",
       "      <td>0.190900</td>\n",
       "      <td>0.197964</td>\n",
       "      <td>86.972700</td>\n",
       "      <td>14.130600</td>\n",
       "    </tr>\n",
       "    <tr>\n",
       "      <td>10</td>\n",
       "      <td>0.209400</td>\n",
       "      <td>0.192332</td>\n",
       "      <td>87.200400</td>\n",
       "      <td>14.135400</td>\n",
       "    </tr>\n",
       "  </tbody>\n",
       "</table><p>"
      ],
      "text/plain": [
       "<IPython.core.display.HTML object>"
      ]
     },
     "metadata": {},
     "output_type": "display_data"
    },
    {
     "name": "stderr",
     "output_type": "stream",
     "text": [
      "Saving model checkpoint to opus-mt-rbg-en-to-bad/checkpoint-100\n",
      "Configuration saved in opus-mt-rbg-en-to-bad/checkpoint-100/config.json\n",
      "Model weights saved in opus-mt-rbg-en-to-bad/checkpoint-100/pytorch_model.bin\n",
      "tokenizer config file saved in opus-mt-rbg-en-to-bad/checkpoint-100/tokenizer_config.json\n",
      "Special tokens file saved in opus-mt-rbg-en-to-bad/checkpoint-100/special_tokens_map.json\n",
      "Saving model checkpoint to opus-mt-rbg-en-to-bad/checkpoint-200\n",
      "Configuration saved in opus-mt-rbg-en-to-bad/checkpoint-200/config.json\n",
      "Model weights saved in opus-mt-rbg-en-to-bad/checkpoint-200/pytorch_model.bin\n",
      "tokenizer config file saved in opus-mt-rbg-en-to-bad/checkpoint-200/tokenizer_config.json\n",
      "Special tokens file saved in opus-mt-rbg-en-to-bad/checkpoint-200/special_tokens_map.json\n",
      "Saving model checkpoint to opus-mt-rbg-en-to-bad/checkpoint-300\n",
      "Configuration saved in opus-mt-rbg-en-to-bad/checkpoint-300/config.json\n",
      "Model weights saved in opus-mt-rbg-en-to-bad/checkpoint-300/pytorch_model.bin\n",
      "tokenizer config file saved in opus-mt-rbg-en-to-bad/checkpoint-300/tokenizer_config.json\n",
      "Special tokens file saved in opus-mt-rbg-en-to-bad/checkpoint-300/special_tokens_map.json\n",
      "Saving model checkpoint to opus-mt-rbg-en-to-bad/checkpoint-400\n",
      "Configuration saved in opus-mt-rbg-en-to-bad/checkpoint-400/config.json\n",
      "Model weights saved in opus-mt-rbg-en-to-bad/checkpoint-400/pytorch_model.bin\n",
      "tokenizer config file saved in opus-mt-rbg-en-to-bad/checkpoint-400/tokenizer_config.json\n",
      "Special tokens file saved in opus-mt-rbg-en-to-bad/checkpoint-400/special_tokens_map.json\n",
      "Deleting older checkpoint [opus-mt-rbg-en-to-bad/checkpoint-100] due to args.save_total_limit\n",
      "The following columns in the evaluation set  don't have a corresponding argument in `MarianMTModel.forward` and have been ignored: translation.\n",
      "***** Running Evaluation *****\n",
      "  Num examples = 1470\n",
      "  Batch size = 16\n",
      "Saving model checkpoint to opus-mt-rbg-en-to-bad/checkpoint-500\n",
      "Configuration saved in opus-mt-rbg-en-to-bad/checkpoint-500/config.json\n",
      "Model weights saved in opus-mt-rbg-en-to-bad/checkpoint-500/pytorch_model.bin\n",
      "tokenizer config file saved in opus-mt-rbg-en-to-bad/checkpoint-500/tokenizer_config.json\n",
      "Special tokens file saved in opus-mt-rbg-en-to-bad/checkpoint-500/special_tokens_map.json\n",
      "Deleting older checkpoint [opus-mt-rbg-en-to-bad/checkpoint-200] due to args.save_total_limit\n",
      "Saving model checkpoint to opus-mt-rbg-en-to-bad/checkpoint-600\n",
      "Configuration saved in opus-mt-rbg-en-to-bad/checkpoint-600/config.json\n",
      "Model weights saved in opus-mt-rbg-en-to-bad/checkpoint-600/pytorch_model.bin\n",
      "tokenizer config file saved in opus-mt-rbg-en-to-bad/checkpoint-600/tokenizer_config.json\n",
      "Special tokens file saved in opus-mt-rbg-en-to-bad/checkpoint-600/special_tokens_map.json\n",
      "Deleting older checkpoint [opus-mt-rbg-en-to-bad/checkpoint-300] due to args.save_total_limit\n",
      "Saving model checkpoint to opus-mt-rbg-en-to-bad/checkpoint-700\n",
      "Configuration saved in opus-mt-rbg-en-to-bad/checkpoint-700/config.json\n",
      "Model weights saved in opus-mt-rbg-en-to-bad/checkpoint-700/pytorch_model.bin\n",
      "tokenizer config file saved in opus-mt-rbg-en-to-bad/checkpoint-700/tokenizer_config.json\n",
      "Special tokens file saved in opus-mt-rbg-en-to-bad/checkpoint-700/special_tokens_map.json\n",
      "Deleting older checkpoint [opus-mt-rbg-en-to-bad/checkpoint-400] due to args.save_total_limit\n",
      "Saving model checkpoint to opus-mt-rbg-en-to-bad/checkpoint-800\n",
      "Configuration saved in opus-mt-rbg-en-to-bad/checkpoint-800/config.json\n",
      "Model weights saved in opus-mt-rbg-en-to-bad/checkpoint-800/pytorch_model.bin\n",
      "tokenizer config file saved in opus-mt-rbg-en-to-bad/checkpoint-800/tokenizer_config.json\n",
      "Special tokens file saved in opus-mt-rbg-en-to-bad/checkpoint-800/special_tokens_map.json\n",
      "Deleting older checkpoint [opus-mt-rbg-en-to-bad/checkpoint-500] due to args.save_total_limit\n",
      "The following columns in the evaluation set  don't have a corresponding argument in `MarianMTModel.forward` and have been ignored: translation.\n",
      "***** Running Evaluation *****\n",
      "  Num examples = 1470\n",
      "  Batch size = 16\n",
      "Saving model checkpoint to opus-mt-rbg-en-to-bad/checkpoint-900\n",
      "Configuration saved in opus-mt-rbg-en-to-bad/checkpoint-900/config.json\n",
      "Model weights saved in opus-mt-rbg-en-to-bad/checkpoint-900/pytorch_model.bin\n",
      "tokenizer config file saved in opus-mt-rbg-en-to-bad/checkpoint-900/tokenizer_config.json\n",
      "Special tokens file saved in opus-mt-rbg-en-to-bad/checkpoint-900/special_tokens_map.json\n",
      "Deleting older checkpoint [opus-mt-rbg-en-to-bad/checkpoint-600] due to args.save_total_limit\n",
      "Saving model checkpoint to opus-mt-rbg-en-to-bad/checkpoint-1000\n",
      "Configuration saved in opus-mt-rbg-en-to-bad/checkpoint-1000/config.json\n",
      "Model weights saved in opus-mt-rbg-en-to-bad/checkpoint-1000/pytorch_model.bin\n",
      "tokenizer config file saved in opus-mt-rbg-en-to-bad/checkpoint-1000/tokenizer_config.json\n",
      "Special tokens file saved in opus-mt-rbg-en-to-bad/checkpoint-1000/special_tokens_map.json\n",
      "Deleting older checkpoint [opus-mt-rbg-en-to-bad/checkpoint-700] due to args.save_total_limit\n",
      "Saving model checkpoint to opus-mt-rbg-en-to-bad/checkpoint-1100\n",
      "Configuration saved in opus-mt-rbg-en-to-bad/checkpoint-1100/config.json\n",
      "Model weights saved in opus-mt-rbg-en-to-bad/checkpoint-1100/pytorch_model.bin\n",
      "tokenizer config file saved in opus-mt-rbg-en-to-bad/checkpoint-1100/tokenizer_config.json\n",
      "Special tokens file saved in opus-mt-rbg-en-to-bad/checkpoint-1100/special_tokens_map.json\n",
      "Deleting older checkpoint [opus-mt-rbg-en-to-bad/checkpoint-800] due to args.save_total_limit\n",
      "Saving model checkpoint to opus-mt-rbg-en-to-bad/checkpoint-1200\n",
      "Configuration saved in opus-mt-rbg-en-to-bad/checkpoint-1200/config.json\n",
      "Model weights saved in opus-mt-rbg-en-to-bad/checkpoint-1200/pytorch_model.bin\n",
      "tokenizer config file saved in opus-mt-rbg-en-to-bad/checkpoint-1200/tokenizer_config.json\n",
      "Special tokens file saved in opus-mt-rbg-en-to-bad/checkpoint-1200/special_tokens_map.json\n",
      "Deleting older checkpoint [opus-mt-rbg-en-to-bad/checkpoint-900] due to args.save_total_limit\n",
      "The following columns in the evaluation set  don't have a corresponding argument in `MarianMTModel.forward` and have been ignored: translation.\n",
      "***** Running Evaluation *****\n",
      "  Num examples = 1470\n",
      "  Batch size = 16\n",
      "Saving model checkpoint to opus-mt-rbg-en-to-bad/checkpoint-1300\n",
      "Configuration saved in opus-mt-rbg-en-to-bad/checkpoint-1300/config.json\n",
      "Model weights saved in opus-mt-rbg-en-to-bad/checkpoint-1300/pytorch_model.bin\n",
      "tokenizer config file saved in opus-mt-rbg-en-to-bad/checkpoint-1300/tokenizer_config.json\n",
      "Special tokens file saved in opus-mt-rbg-en-to-bad/checkpoint-1300/special_tokens_map.json\n",
      "Deleting older checkpoint [opus-mt-rbg-en-to-bad/checkpoint-1000] due to args.save_total_limit\n",
      "Saving model checkpoint to opus-mt-rbg-en-to-bad/checkpoint-1400\n",
      "Configuration saved in opus-mt-rbg-en-to-bad/checkpoint-1400/config.json\n",
      "Model weights saved in opus-mt-rbg-en-to-bad/checkpoint-1400/pytorch_model.bin\n",
      "tokenizer config file saved in opus-mt-rbg-en-to-bad/checkpoint-1400/tokenizer_config.json\n",
      "Special tokens file saved in opus-mt-rbg-en-to-bad/checkpoint-1400/special_tokens_map.json\n",
      "Deleting older checkpoint [opus-mt-rbg-en-to-bad/checkpoint-1100] due to args.save_total_limit\n",
      "Saving model checkpoint to opus-mt-rbg-en-to-bad/checkpoint-1500\n",
      "Configuration saved in opus-mt-rbg-en-to-bad/checkpoint-1500/config.json\n",
      "Model weights saved in opus-mt-rbg-en-to-bad/checkpoint-1500/pytorch_model.bin\n",
      "tokenizer config file saved in opus-mt-rbg-en-to-bad/checkpoint-1500/tokenizer_config.json\n",
      "Special tokens file saved in opus-mt-rbg-en-to-bad/checkpoint-1500/special_tokens_map.json\n",
      "Deleting older checkpoint [opus-mt-rbg-en-to-bad/checkpoint-1200] due to args.save_total_limit\n",
      "Saving model checkpoint to opus-mt-rbg-en-to-bad/checkpoint-1600\n",
      "Configuration saved in opus-mt-rbg-en-to-bad/checkpoint-1600/config.json\n",
      "Model weights saved in opus-mt-rbg-en-to-bad/checkpoint-1600/pytorch_model.bin\n",
      "tokenizer config file saved in opus-mt-rbg-en-to-bad/checkpoint-1600/tokenizer_config.json\n",
      "Special tokens file saved in opus-mt-rbg-en-to-bad/checkpoint-1600/special_tokens_map.json\n",
      "Deleting older checkpoint [opus-mt-rbg-en-to-bad/checkpoint-1300] due to args.save_total_limit\n"
     ]
    },
    {
     "name": "stderr",
     "output_type": "stream",
     "text": [
      "Saving model checkpoint to opus-mt-rbg-en-to-bad/checkpoint-1700\n",
      "Configuration saved in opus-mt-rbg-en-to-bad/checkpoint-1700/config.json\n",
      "Model weights saved in opus-mt-rbg-en-to-bad/checkpoint-1700/pytorch_model.bin\n",
      "tokenizer config file saved in opus-mt-rbg-en-to-bad/checkpoint-1700/tokenizer_config.json\n",
      "Special tokens file saved in opus-mt-rbg-en-to-bad/checkpoint-1700/special_tokens_map.json\n",
      "Deleting older checkpoint [opus-mt-rbg-en-to-bad/checkpoint-1400] due to args.save_total_limit\n",
      "The following columns in the evaluation set  don't have a corresponding argument in `MarianMTModel.forward` and have been ignored: translation.\n",
      "***** Running Evaluation *****\n",
      "  Num examples = 1470\n",
      "  Batch size = 16\n",
      "Saving model checkpoint to opus-mt-rbg-en-to-bad/checkpoint-1800\n",
      "Configuration saved in opus-mt-rbg-en-to-bad/checkpoint-1800/config.json\n",
      "Model weights saved in opus-mt-rbg-en-to-bad/checkpoint-1800/pytorch_model.bin\n",
      "tokenizer config file saved in opus-mt-rbg-en-to-bad/checkpoint-1800/tokenizer_config.json\n",
      "Special tokens file saved in opus-mt-rbg-en-to-bad/checkpoint-1800/special_tokens_map.json\n",
      "Deleting older checkpoint [opus-mt-rbg-en-to-bad/checkpoint-1500] due to args.save_total_limit\n",
      "Saving model checkpoint to opus-mt-rbg-en-to-bad/checkpoint-1900\n",
      "Configuration saved in opus-mt-rbg-en-to-bad/checkpoint-1900/config.json\n",
      "Model weights saved in opus-mt-rbg-en-to-bad/checkpoint-1900/pytorch_model.bin\n",
      "tokenizer config file saved in opus-mt-rbg-en-to-bad/checkpoint-1900/tokenizer_config.json\n",
      "Special tokens file saved in opus-mt-rbg-en-to-bad/checkpoint-1900/special_tokens_map.json\n",
      "Deleting older checkpoint [opus-mt-rbg-en-to-bad/checkpoint-1600] due to args.save_total_limit\n",
      "Saving model checkpoint to opus-mt-rbg-en-to-bad/checkpoint-2000\n",
      "Configuration saved in opus-mt-rbg-en-to-bad/checkpoint-2000/config.json\n",
      "Model weights saved in opus-mt-rbg-en-to-bad/checkpoint-2000/pytorch_model.bin\n",
      "tokenizer config file saved in opus-mt-rbg-en-to-bad/checkpoint-2000/tokenizer_config.json\n",
      "Special tokens file saved in opus-mt-rbg-en-to-bad/checkpoint-2000/special_tokens_map.json\n",
      "Deleting older checkpoint [opus-mt-rbg-en-to-bad/checkpoint-1700] due to args.save_total_limit\n",
      "Saving model checkpoint to opus-mt-rbg-en-to-bad/checkpoint-2100\n",
      "Configuration saved in opus-mt-rbg-en-to-bad/checkpoint-2100/config.json\n",
      "Model weights saved in opus-mt-rbg-en-to-bad/checkpoint-2100/pytorch_model.bin\n",
      "tokenizer config file saved in opus-mt-rbg-en-to-bad/checkpoint-2100/tokenizer_config.json\n",
      "Special tokens file saved in opus-mt-rbg-en-to-bad/checkpoint-2100/special_tokens_map.json\n",
      "Deleting older checkpoint [opus-mt-rbg-en-to-bad/checkpoint-1800] due to args.save_total_limit\n",
      "The following columns in the evaluation set  don't have a corresponding argument in `MarianMTModel.forward` and have been ignored: translation.\n",
      "***** Running Evaluation *****\n",
      "  Num examples = 1470\n",
      "  Batch size = 16\n",
      "Saving model checkpoint to opus-mt-rbg-en-to-bad/checkpoint-2200\n",
      "Configuration saved in opus-mt-rbg-en-to-bad/checkpoint-2200/config.json\n",
      "Model weights saved in opus-mt-rbg-en-to-bad/checkpoint-2200/pytorch_model.bin\n",
      "tokenizer config file saved in opus-mt-rbg-en-to-bad/checkpoint-2200/tokenizer_config.json\n",
      "Special tokens file saved in opus-mt-rbg-en-to-bad/checkpoint-2200/special_tokens_map.json\n",
      "Deleting older checkpoint [opus-mt-rbg-en-to-bad/checkpoint-1900] due to args.save_total_limit\n",
      "Saving model checkpoint to opus-mt-rbg-en-to-bad/checkpoint-2300\n",
      "Configuration saved in opus-mt-rbg-en-to-bad/checkpoint-2300/config.json\n",
      "Model weights saved in opus-mt-rbg-en-to-bad/checkpoint-2300/pytorch_model.bin\n",
      "tokenizer config file saved in opus-mt-rbg-en-to-bad/checkpoint-2300/tokenizer_config.json\n",
      "Special tokens file saved in opus-mt-rbg-en-to-bad/checkpoint-2300/special_tokens_map.json\n",
      "Deleting older checkpoint [opus-mt-rbg-en-to-bad/checkpoint-2000] due to args.save_total_limit\n",
      "Saving model checkpoint to opus-mt-rbg-en-to-bad/checkpoint-2400\n",
      "Configuration saved in opus-mt-rbg-en-to-bad/checkpoint-2400/config.json\n",
      "Model weights saved in opus-mt-rbg-en-to-bad/checkpoint-2400/pytorch_model.bin\n",
      "tokenizer config file saved in opus-mt-rbg-en-to-bad/checkpoint-2400/tokenizer_config.json\n",
      "Special tokens file saved in opus-mt-rbg-en-to-bad/checkpoint-2400/special_tokens_map.json\n",
      "Deleting older checkpoint [opus-mt-rbg-en-to-bad/checkpoint-2100] due to args.save_total_limit\n",
      "Saving model checkpoint to opus-mt-rbg-en-to-bad/checkpoint-2500\n",
      "Configuration saved in opus-mt-rbg-en-to-bad/checkpoint-2500/config.json\n",
      "Model weights saved in opus-mt-rbg-en-to-bad/checkpoint-2500/pytorch_model.bin\n",
      "tokenizer config file saved in opus-mt-rbg-en-to-bad/checkpoint-2500/tokenizer_config.json\n",
      "Special tokens file saved in opus-mt-rbg-en-to-bad/checkpoint-2500/special_tokens_map.json\n",
      "Deleting older checkpoint [opus-mt-rbg-en-to-bad/checkpoint-2200] due to args.save_total_limit\n",
      "The following columns in the evaluation set  don't have a corresponding argument in `MarianMTModel.forward` and have been ignored: translation.\n",
      "***** Running Evaluation *****\n",
      "  Num examples = 1470\n",
      "  Batch size = 16\n",
      "Saving model checkpoint to opus-mt-rbg-en-to-bad/checkpoint-2600\n",
      "Configuration saved in opus-mt-rbg-en-to-bad/checkpoint-2600/config.json\n",
      "Model weights saved in opus-mt-rbg-en-to-bad/checkpoint-2600/pytorch_model.bin\n",
      "tokenizer config file saved in opus-mt-rbg-en-to-bad/checkpoint-2600/tokenizer_config.json\n",
      "Special tokens file saved in opus-mt-rbg-en-to-bad/checkpoint-2600/special_tokens_map.json\n",
      "Deleting older checkpoint [opus-mt-rbg-en-to-bad/checkpoint-2300] due to args.save_total_limit\n",
      "Saving model checkpoint to opus-mt-rbg-en-to-bad/checkpoint-2700\n",
      "Configuration saved in opus-mt-rbg-en-to-bad/checkpoint-2700/config.json\n",
      "Model weights saved in opus-mt-rbg-en-to-bad/checkpoint-2700/pytorch_model.bin\n",
      "tokenizer config file saved in opus-mt-rbg-en-to-bad/checkpoint-2700/tokenizer_config.json\n",
      "Special tokens file saved in opus-mt-rbg-en-to-bad/checkpoint-2700/special_tokens_map.json\n",
      "Deleting older checkpoint [opus-mt-rbg-en-to-bad/checkpoint-2400] due to args.save_total_limit\n",
      "Saving model checkpoint to opus-mt-rbg-en-to-bad/checkpoint-2800\n",
      "Configuration saved in opus-mt-rbg-en-to-bad/checkpoint-2800/config.json\n",
      "Model weights saved in opus-mt-rbg-en-to-bad/checkpoint-2800/pytorch_model.bin\n",
      "tokenizer config file saved in opus-mt-rbg-en-to-bad/checkpoint-2800/tokenizer_config.json\n",
      "Special tokens file saved in opus-mt-rbg-en-to-bad/checkpoint-2800/special_tokens_map.json\n",
      "Deleting older checkpoint [opus-mt-rbg-en-to-bad/checkpoint-2500] due to args.save_total_limit\n",
      "Saving model checkpoint to opus-mt-rbg-en-to-bad/checkpoint-2900\n",
      "Configuration saved in opus-mt-rbg-en-to-bad/checkpoint-2900/config.json\n",
      "Model weights saved in opus-mt-rbg-en-to-bad/checkpoint-2900/pytorch_model.bin\n",
      "tokenizer config file saved in opus-mt-rbg-en-to-bad/checkpoint-2900/tokenizer_config.json\n",
      "Special tokens file saved in opus-mt-rbg-en-to-bad/checkpoint-2900/special_tokens_map.json\n",
      "Deleting older checkpoint [opus-mt-rbg-en-to-bad/checkpoint-2600] due to args.save_total_limit\n",
      "Saving model checkpoint to opus-mt-rbg-en-to-bad/checkpoint-3000\n",
      "Configuration saved in opus-mt-rbg-en-to-bad/checkpoint-3000/config.json\n",
      "Model weights saved in opus-mt-rbg-en-to-bad/checkpoint-3000/pytorch_model.bin\n",
      "tokenizer config file saved in opus-mt-rbg-en-to-bad/checkpoint-3000/tokenizer_config.json\n",
      "Special tokens file saved in opus-mt-rbg-en-to-bad/checkpoint-3000/special_tokens_map.json\n",
      "Deleting older checkpoint [opus-mt-rbg-en-to-bad/checkpoint-2700] due to args.save_total_limit\n",
      "The following columns in the evaluation set  don't have a corresponding argument in `MarianMTModel.forward` and have been ignored: translation.\n",
      "***** Running Evaluation *****\n",
      "  Num examples = 1470\n",
      "  Batch size = 16\n",
      "Saving model checkpoint to opus-mt-rbg-en-to-bad/checkpoint-3100\n",
      "Configuration saved in opus-mt-rbg-en-to-bad/checkpoint-3100/config.json\n",
      "Model weights saved in opus-mt-rbg-en-to-bad/checkpoint-3100/pytorch_model.bin\n",
      "tokenizer config file saved in opus-mt-rbg-en-to-bad/checkpoint-3100/tokenizer_config.json\n",
      "Special tokens file saved in opus-mt-rbg-en-to-bad/checkpoint-3100/special_tokens_map.json\n",
      "Deleting older checkpoint [opus-mt-rbg-en-to-bad/checkpoint-2800] due to args.save_total_limit\n"
     ]
    },
    {
     "name": "stderr",
     "output_type": "stream",
     "text": [
      "Saving model checkpoint to opus-mt-rbg-en-to-bad/checkpoint-3200\n",
      "Configuration saved in opus-mt-rbg-en-to-bad/checkpoint-3200/config.json\n",
      "Model weights saved in opus-mt-rbg-en-to-bad/checkpoint-3200/pytorch_model.bin\n",
      "tokenizer config file saved in opus-mt-rbg-en-to-bad/checkpoint-3200/tokenizer_config.json\n",
      "Special tokens file saved in opus-mt-rbg-en-to-bad/checkpoint-3200/special_tokens_map.json\n",
      "Deleting older checkpoint [opus-mt-rbg-en-to-bad/checkpoint-2900] due to args.save_total_limit\n",
      "Saving model checkpoint to opus-mt-rbg-en-to-bad/checkpoint-3300\n",
      "Configuration saved in opus-mt-rbg-en-to-bad/checkpoint-3300/config.json\n",
      "Model weights saved in opus-mt-rbg-en-to-bad/checkpoint-3300/pytorch_model.bin\n",
      "tokenizer config file saved in opus-mt-rbg-en-to-bad/checkpoint-3300/tokenizer_config.json\n",
      "Special tokens file saved in opus-mt-rbg-en-to-bad/checkpoint-3300/special_tokens_map.json\n",
      "Deleting older checkpoint [opus-mt-rbg-en-to-bad/checkpoint-3000] due to args.save_total_limit\n",
      "Saving model checkpoint to opus-mt-rbg-en-to-bad/checkpoint-3400\n",
      "Configuration saved in opus-mt-rbg-en-to-bad/checkpoint-3400/config.json\n",
      "Model weights saved in opus-mt-rbg-en-to-bad/checkpoint-3400/pytorch_model.bin\n",
      "tokenizer config file saved in opus-mt-rbg-en-to-bad/checkpoint-3400/tokenizer_config.json\n",
      "Special tokens file saved in opus-mt-rbg-en-to-bad/checkpoint-3400/special_tokens_map.json\n",
      "Deleting older checkpoint [opus-mt-rbg-en-to-bad/checkpoint-3100] due to args.save_total_limit\n",
      "The following columns in the evaluation set  don't have a corresponding argument in `MarianMTModel.forward` and have been ignored: translation.\n",
      "***** Running Evaluation *****\n",
      "  Num examples = 1470\n",
      "  Batch size = 16\n",
      "Saving model checkpoint to opus-mt-rbg-en-to-bad/checkpoint-3500\n",
      "Configuration saved in opus-mt-rbg-en-to-bad/checkpoint-3500/config.json\n",
      "Model weights saved in opus-mt-rbg-en-to-bad/checkpoint-3500/pytorch_model.bin\n",
      "tokenizer config file saved in opus-mt-rbg-en-to-bad/checkpoint-3500/tokenizer_config.json\n",
      "Special tokens file saved in opus-mt-rbg-en-to-bad/checkpoint-3500/special_tokens_map.json\n",
      "Deleting older checkpoint [opus-mt-rbg-en-to-bad/checkpoint-3200] due to args.save_total_limit\n",
      "Saving model checkpoint to opus-mt-rbg-en-to-bad/checkpoint-3600\n",
      "Configuration saved in opus-mt-rbg-en-to-bad/checkpoint-3600/config.json\n",
      "Model weights saved in opus-mt-rbg-en-to-bad/checkpoint-3600/pytorch_model.bin\n",
      "tokenizer config file saved in opus-mt-rbg-en-to-bad/checkpoint-3600/tokenizer_config.json\n",
      "Special tokens file saved in opus-mt-rbg-en-to-bad/checkpoint-3600/special_tokens_map.json\n",
      "Deleting older checkpoint [opus-mt-rbg-en-to-bad/checkpoint-3300] due to args.save_total_limit\n",
      "Saving model checkpoint to opus-mt-rbg-en-to-bad/checkpoint-3700\n",
      "Configuration saved in opus-mt-rbg-en-to-bad/checkpoint-3700/config.json\n",
      "Model weights saved in opus-mt-rbg-en-to-bad/checkpoint-3700/pytorch_model.bin\n",
      "tokenizer config file saved in opus-mt-rbg-en-to-bad/checkpoint-3700/tokenizer_config.json\n",
      "Special tokens file saved in opus-mt-rbg-en-to-bad/checkpoint-3700/special_tokens_map.json\n",
      "Deleting older checkpoint [opus-mt-rbg-en-to-bad/checkpoint-3400] due to args.save_total_limit\n",
      "Saving model checkpoint to opus-mt-rbg-en-to-bad/checkpoint-3800\n",
      "Configuration saved in opus-mt-rbg-en-to-bad/checkpoint-3800/config.json\n",
      "Model weights saved in opus-mt-rbg-en-to-bad/checkpoint-3800/pytorch_model.bin\n",
      "tokenizer config file saved in opus-mt-rbg-en-to-bad/checkpoint-3800/tokenizer_config.json\n",
      "Special tokens file saved in opus-mt-rbg-en-to-bad/checkpoint-3800/special_tokens_map.json\n",
      "Deleting older checkpoint [opus-mt-rbg-en-to-bad/checkpoint-3500] due to args.save_total_limit\n",
      "The following columns in the evaluation set  don't have a corresponding argument in `MarianMTModel.forward` and have been ignored: translation.\n",
      "***** Running Evaluation *****\n",
      "  Num examples = 1470\n",
      "  Batch size = 16\n",
      "Saving model checkpoint to opus-mt-rbg-en-to-bad/checkpoint-3900\n",
      "Configuration saved in opus-mt-rbg-en-to-bad/checkpoint-3900/config.json\n",
      "Model weights saved in opus-mt-rbg-en-to-bad/checkpoint-3900/pytorch_model.bin\n",
      "tokenizer config file saved in opus-mt-rbg-en-to-bad/checkpoint-3900/tokenizer_config.json\n",
      "Special tokens file saved in opus-mt-rbg-en-to-bad/checkpoint-3900/special_tokens_map.json\n",
      "Deleting older checkpoint [opus-mt-rbg-en-to-bad/checkpoint-3600] due to args.save_total_limit\n",
      "Saving model checkpoint to opus-mt-rbg-en-to-bad/checkpoint-4000\n",
      "Configuration saved in opus-mt-rbg-en-to-bad/checkpoint-4000/config.json\n",
      "Model weights saved in opus-mt-rbg-en-to-bad/checkpoint-4000/pytorch_model.bin\n",
      "tokenizer config file saved in opus-mt-rbg-en-to-bad/checkpoint-4000/tokenizer_config.json\n",
      "Special tokens file saved in opus-mt-rbg-en-to-bad/checkpoint-4000/special_tokens_map.json\n",
      "Deleting older checkpoint [opus-mt-rbg-en-to-bad/checkpoint-3700] due to args.save_total_limit\n",
      "Saving model checkpoint to opus-mt-rbg-en-to-bad/checkpoint-4100\n",
      "Configuration saved in opus-mt-rbg-en-to-bad/checkpoint-4100/config.json\n",
      "Model weights saved in opus-mt-rbg-en-to-bad/checkpoint-4100/pytorch_model.bin\n",
      "tokenizer config file saved in opus-mt-rbg-en-to-bad/checkpoint-4100/tokenizer_config.json\n",
      "Special tokens file saved in opus-mt-rbg-en-to-bad/checkpoint-4100/special_tokens_map.json\n",
      "Deleting older checkpoint [opus-mt-rbg-en-to-bad/checkpoint-3800] due to args.save_total_limit\n",
      "Saving model checkpoint to opus-mt-rbg-en-to-bad/checkpoint-4200\n",
      "Configuration saved in opus-mt-rbg-en-to-bad/checkpoint-4200/config.json\n",
      "Model weights saved in opus-mt-rbg-en-to-bad/checkpoint-4200/pytorch_model.bin\n",
      "tokenizer config file saved in opus-mt-rbg-en-to-bad/checkpoint-4200/tokenizer_config.json\n",
      "Special tokens file saved in opus-mt-rbg-en-to-bad/checkpoint-4200/special_tokens_map.json\n",
      "Deleting older checkpoint [opus-mt-rbg-en-to-bad/checkpoint-3900] due to args.save_total_limit\n",
      "Saving model checkpoint to opus-mt-rbg-en-to-bad/checkpoint-4300\n",
      "Configuration saved in opus-mt-rbg-en-to-bad/checkpoint-4300/config.json\n",
      "Model weights saved in opus-mt-rbg-en-to-bad/checkpoint-4300/pytorch_model.bin\n",
      "tokenizer config file saved in opus-mt-rbg-en-to-bad/checkpoint-4300/tokenizer_config.json\n",
      "Special tokens file saved in opus-mt-rbg-en-to-bad/checkpoint-4300/special_tokens_map.json\n",
      "Deleting older checkpoint [opus-mt-rbg-en-to-bad/checkpoint-4000] due to args.save_total_limit\n",
      "The following columns in the evaluation set  don't have a corresponding argument in `MarianMTModel.forward` and have been ignored: translation.\n",
      "***** Running Evaluation *****\n",
      "  Num examples = 1470\n",
      "  Batch size = 16\n",
      "\n",
      "\n",
      "Training completed. Do not forget to share your model on huggingface.co/models =)\n",
      "\n",
      "\n"
     ]
    },
    {
     "data": {
      "text/plain": [
       "TrainOutput(global_step=4310, training_loss=0.7154880134799364, metrics={'train_runtime': 6605.375, 'train_samples_per_second': 10.438, 'train_steps_per_second': 0.652, 'total_flos': 620682769465344.0, 'train_loss': 0.7154880134799364, 'epoch': 10.0})"
      ]
     },
     "execution_count": 21,
     "metadata": {},
     "output_type": "execute_result"
    }
   ],
   "source": [
    "# training\n",
    "trainer.train()"
   ]
  },
  {
   "cell_type": "markdown",
   "metadata": {},
   "source": [
    "## Badaga to English Translation"
   ]
  },
  {
   "cell_type": "code",
   "execution_count": 22,
   "metadata": {},
   "outputs": [],
   "source": [
    "# defining the pre-process function \n",
    "max_input_length = 128\n",
    "max_target_length = 128\n",
    "source_lang = 'bad'\n",
    "target_lang = 'en'\n",
    "prefix = \"\"\n",
    "import ast\n",
    "def preprocess_function(examples):\n",
    "    inputs = [ast.literal_eval(ex)[source_lang] for ex in examples[\"translation\"]]\n",
    "    targets = [ast.literal_eval(ex)[target_lang] for ex in examples[\"translation\"]]\n",
    "    model_inputs = tokenizer(inputs, max_length=max_input_length, truncation=True)\n",
    "\n",
    "    # Setup the tokenizer for targets\n",
    "    with tokenizer.as_target_tokenizer():\n",
    "        labels = tokenizer(targets, max_length=max_target_length, truncation=True)\n",
    "\n",
    "    model_inputs[\"labels\"] = labels[\"input_ids\"]\n",
    "    return model_inputs"
   ]
  },
  {
   "cell_type": "code",
   "execution_count": 23,
   "metadata": {},
   "outputs": [
    {
     "data": {
      "application/vnd.jupyter.widget-view+json": {
       "model_id": "57c51391219348bf926e73ac81656010",
       "version_major": 2,
       "version_minor": 0
      },
      "text/plain": [
       "  0%|          | 0/7 [00:00<?, ?ba/s]"
      ]
     },
     "metadata": {},
     "output_type": "display_data"
    },
    {
     "data": {
      "application/vnd.jupyter.widget-view+json": {
       "model_id": "025f81240eee455ab4a80cef5c8e4242",
       "version_major": 2,
       "version_minor": 0
      },
      "text/plain": [
       "  0%|          | 0/2 [00:00<?, ?ba/s]"
      ]
     },
     "metadata": {},
     "output_type": "display_data"
    },
    {
     "data": {
      "application/vnd.jupyter.widget-view+json": {
       "model_id": "dbac0a9265af41bc8cb6c942761c3c98",
       "version_major": 2,
       "version_minor": 0
      },
      "text/plain": [
       "  0%|          | 0/2 [00:00<?, ?ba/s]"
      ]
     },
     "metadata": {},
     "output_type": "display_data"
    }
   ],
   "source": [
    "# tokenizing\n",
    "tokenized_datasets = raw_datasets.map(preprocess_function, batched=True)"
   ]
  },
  {
   "cell_type": "code",
   "execution_count": 24,
   "metadata": {},
   "outputs": [
    {
     "name": "stderr",
     "output_type": "stream",
     "text": [
      "loading configuration file https://huggingface.co/Helsinki-NLP/opus-mt-en-ro/resolve/main/config.json from cache at /home/ubuntu/.cache/huggingface/transformers/c9aa21082ce9a9811f9545a0fc0b441e82444d82f3b2571462c42fb470eec36e.9b192a33701c4f94ad3145ff0cdda62ca61214951101372f2ddaa47cf4f4aa25\n",
      "Model config MarianConfig {\n",
      "  \"_name_or_path\": \"Helsinki-NLP/opus-mt-en-ro\",\n",
      "  \"_num_labels\": 3,\n",
      "  \"activation_dropout\": 0.0,\n",
      "  \"activation_function\": \"swish\",\n",
      "  \"add_bias_logits\": false,\n",
      "  \"add_final_layer_norm\": false,\n",
      "  \"architectures\": [\n",
      "    \"MarianMTModel\"\n",
      "  ],\n",
      "  \"attention_dropout\": 0.0,\n",
      "  \"bad_words_ids\": [\n",
      "    [\n",
      "      59542\n",
      "    ]\n",
      "  ],\n",
      "  \"bos_token_id\": 0,\n",
      "  \"classif_dropout\": 0.0,\n",
      "  \"classifier_dropout\": 0.0,\n",
      "  \"d_model\": 512,\n",
      "  \"decoder_attention_heads\": 8,\n",
      "  \"decoder_ffn_dim\": 2048,\n",
      "  \"decoder_layerdrop\": 0.0,\n",
      "  \"decoder_layers\": 6,\n",
      "  \"decoder_start_token_id\": 59542,\n",
      "  \"dropout\": 0.1,\n",
      "  \"encoder_attention_heads\": 8,\n",
      "  \"encoder_ffn_dim\": 2048,\n",
      "  \"encoder_layerdrop\": 0.0,\n",
      "  \"encoder_layers\": 6,\n",
      "  \"eos_token_id\": 0,\n",
      "  \"forced_eos_token_id\": 0,\n",
      "  \"id2label\": {\n",
      "    \"0\": \"LABEL_0\",\n",
      "    \"1\": \"LABEL_1\",\n",
      "    \"2\": \"LABEL_2\"\n",
      "  },\n",
      "  \"init_std\": 0.02,\n",
      "  \"is_encoder_decoder\": true,\n",
      "  \"label2id\": {\n",
      "    \"LABEL_0\": 0,\n",
      "    \"LABEL_1\": 1,\n",
      "    \"LABEL_2\": 2\n",
      "  },\n",
      "  \"max_length\": 512,\n",
      "  \"max_position_embeddings\": 512,\n",
      "  \"model_type\": \"marian\",\n",
      "  \"normalize_before\": false,\n",
      "  \"normalize_embedding\": false,\n",
      "  \"num_beams\": 4,\n",
      "  \"num_hidden_layers\": 6,\n",
      "  \"pad_token_id\": 59542,\n",
      "  \"scale_embedding\": true,\n",
      "  \"static_position_embeddings\": true,\n",
      "  \"transformers_version\": \"4.13.0\",\n",
      "  \"use_cache\": true,\n",
      "  \"vocab_size\": 59543\n",
      "}\n",
      "\n",
      "loading weights file https://huggingface.co/Helsinki-NLP/opus-mt-en-ro/resolve/main/pytorch_model.bin from cache at /home/ubuntu/.cache/huggingface/transformers/ddea6571c8d435d3a95a0d3b003ce4ed9cd74380314ce1510adc1a2b80ec6541.ea59afa9489e25f746dc0446b0ef6874b3b9e704d9d077620684ec467f86be9d\n",
      "All model checkpoint weights were used when initializing MarianMTModel.\n",
      "\n",
      "All the weights of MarianMTModel were initialized from the model checkpoint at Helsinki-NLP/opus-mt-en-ro.\n",
      "If your task is similar to the task the model of the checkpoint was trained on, you can already use MarianMTModel for predictions without further training.\n"
     ]
    }
   ],
   "source": [
    "# loading the model\n",
    "from transformers import AutoModelForSeq2SeqLM, DataCollatorForSeq2Seq, Seq2SeqTrainingArguments, Seq2SeqTrainer\n",
    "\n",
    "model = AutoModelForSeq2SeqLM.from_pretrained(model_checkpoint)"
   ]
  },
  {
   "cell_type": "code",
   "execution_count": 25,
   "metadata": {},
   "outputs": [
    {
     "name": "stderr",
     "output_type": "stream",
     "text": [
      "PyTorch: setting up devices\n",
      "The default value for the training argument `--report_to` will change in v5 (from all installed integrations to none). In v5, you will need to use `--report_to all` to get the same behavior as now. You should start updating your code and make this info disappear :-).\n"
     ]
    }
   ],
   "source": [
    "# setting up training arguments\n",
    "batch_size = 16\n",
    "model_name = model_checkpoint.split(\"/\")[-1]\n",
    "args = Seq2SeqTrainingArguments(\n",
    "    \"opus-mt-rbg-bad-to-en\",\n",
    "    evaluation_strategy = \"epoch\",\n",
    "    learning_rate=2e-5,\n",
    "    per_device_train_batch_size=batch_size,\n",
    "    per_device_eval_batch_size=batch_size,\n",
    "    weight_decay=0.01,\n",
    "    save_total_limit=3,\n",
    "    save_steps=100,\n",
    "    logging_steps=10,\n",
    "    num_train_epochs=10,\n",
    "    predict_with_generate=True,\n",
    "    fp16=True,\n",
    "    push_to_hub=False,\n",
    ")"
   ]
  },
  {
   "cell_type": "code",
   "execution_count": 26,
   "metadata": {},
   "outputs": [],
   "source": [
    "data_collator = DataCollatorForSeq2Seq(tokenizer, model=model)"
   ]
  },
  {
   "cell_type": "code",
   "execution_count": 27,
   "metadata": {},
   "outputs": [
    {
     "name": "stderr",
     "output_type": "stream",
     "text": [
      "Using amp half precision backend\n"
     ]
    }
   ],
   "source": [
    "trainer = Seq2SeqTrainer(\n",
    "    model,\n",
    "    args,\n",
    "    train_dataset=tokenized_datasets[\"train\"],\n",
    "    eval_dataset=tokenized_datasets[\"validation\"],\n",
    "    data_collator=data_collator,\n",
    "    tokenizer=tokenizer,\n",
    "    compute_metrics=compute_metrics\n",
    ")"
   ]
  },
  {
   "cell_type": "code",
   "execution_count": 28,
   "metadata": {},
   "outputs": [
    {
     "name": "stderr",
     "output_type": "stream",
     "text": [
      "The following columns in the training set  don't have a corresponding argument in `MarianMTModel.forward` and have been ignored: translation.\n",
      "***** Running training *****\n",
      "  Num examples = 6895\n",
      "  Num Epochs = 10\n",
      "  Instantaneous batch size per device = 16\n",
      "  Total train batch size (w. parallel, distributed & accumulation) = 16\n",
      "  Gradient Accumulation steps = 1\n",
      "  Total optimization steps = 4310\n"
     ]
    },
    {
     "data": {
      "text/html": [
       "\n",
       "    <div>\n",
       "      \n",
       "      <progress value='4310' max='4310' style='width:300px; height:20px; vertical-align: middle;'></progress>\n",
       "      [4310/4310 1:32:26, Epoch 10/10]\n",
       "    </div>\n",
       "    <table border=\"1\" class=\"dataframe\">\n",
       "  <thead>\n",
       "    <tr style=\"text-align: left;\">\n",
       "      <th>Epoch</th>\n",
       "      <th>Training Loss</th>\n",
       "      <th>Validation Loss</th>\n",
       "      <th>Bleu</th>\n",
       "      <th>Gen Len</th>\n",
       "    </tr>\n",
       "  </thead>\n",
       "  <tbody>\n",
       "    <tr>\n",
       "      <td>1</td>\n",
       "      <td>1.778100</td>\n",
       "      <td>1.623621</td>\n",
       "      <td>27.909000</td>\n",
       "      <td>11.244200</td>\n",
       "    </tr>\n",
       "    <tr>\n",
       "      <td>2</td>\n",
       "      <td>1.243200</td>\n",
       "      <td>1.065718</td>\n",
       "      <td>39.801300</td>\n",
       "      <td>10.711600</td>\n",
       "    </tr>\n",
       "    <tr>\n",
       "      <td>3</td>\n",
       "      <td>0.902900</td>\n",
       "      <td>0.732260</td>\n",
       "      <td>50.944400</td>\n",
       "      <td>10.761200</td>\n",
       "    </tr>\n",
       "    <tr>\n",
       "      <td>4</td>\n",
       "      <td>0.609600</td>\n",
       "      <td>0.531526</td>\n",
       "      <td>61.483200</td>\n",
       "      <td>10.766700</td>\n",
       "    </tr>\n",
       "    <tr>\n",
       "      <td>5</td>\n",
       "      <td>0.477400</td>\n",
       "      <td>0.407978</td>\n",
       "      <td>70.940300</td>\n",
       "      <td>10.712200</td>\n",
       "    </tr>\n",
       "    <tr>\n",
       "      <td>6</td>\n",
       "      <td>0.425500</td>\n",
       "      <td>0.327416</td>\n",
       "      <td>77.871000</td>\n",
       "      <td>10.874800</td>\n",
       "    </tr>\n",
       "    <tr>\n",
       "      <td>7</td>\n",
       "      <td>0.341900</td>\n",
       "      <td>0.280679</td>\n",
       "      <td>82.532900</td>\n",
       "      <td>10.767300</td>\n",
       "    </tr>\n",
       "    <tr>\n",
       "      <td>8</td>\n",
       "      <td>0.278900</td>\n",
       "      <td>0.252802</td>\n",
       "      <td>84.242200</td>\n",
       "      <td>10.835400</td>\n",
       "    </tr>\n",
       "    <tr>\n",
       "      <td>9</td>\n",
       "      <td>0.245100</td>\n",
       "      <td>0.235721</td>\n",
       "      <td>85.639300</td>\n",
       "      <td>10.773500</td>\n",
       "    </tr>\n",
       "    <tr>\n",
       "      <td>10</td>\n",
       "      <td>0.231400</td>\n",
       "      <td>0.229480</td>\n",
       "      <td>85.903300</td>\n",
       "      <td>10.802700</td>\n",
       "    </tr>\n",
       "  </tbody>\n",
       "</table><p>"
      ],
      "text/plain": [
       "<IPython.core.display.HTML object>"
      ]
     },
     "metadata": {},
     "output_type": "display_data"
    },
    {
     "name": "stderr",
     "output_type": "stream",
     "text": [
      "Saving model checkpoint to opus-mt-rbg-bad-to-en/checkpoint-100\n",
      "Configuration saved in opus-mt-rbg-bad-to-en/checkpoint-100/config.json\n",
      "Model weights saved in opus-mt-rbg-bad-to-en/checkpoint-100/pytorch_model.bin\n",
      "tokenizer config file saved in opus-mt-rbg-bad-to-en/checkpoint-100/tokenizer_config.json\n",
      "Special tokens file saved in opus-mt-rbg-bad-to-en/checkpoint-100/special_tokens_map.json\n",
      "Saving model checkpoint to opus-mt-rbg-bad-to-en/checkpoint-200\n",
      "Configuration saved in opus-mt-rbg-bad-to-en/checkpoint-200/config.json\n",
      "Model weights saved in opus-mt-rbg-bad-to-en/checkpoint-200/pytorch_model.bin\n",
      "tokenizer config file saved in opus-mt-rbg-bad-to-en/checkpoint-200/tokenizer_config.json\n",
      "Special tokens file saved in opus-mt-rbg-bad-to-en/checkpoint-200/special_tokens_map.json\n",
      "Saving model checkpoint to opus-mt-rbg-bad-to-en/checkpoint-300\n",
      "Configuration saved in opus-mt-rbg-bad-to-en/checkpoint-300/config.json\n",
      "Model weights saved in opus-mt-rbg-bad-to-en/checkpoint-300/pytorch_model.bin\n",
      "tokenizer config file saved in opus-mt-rbg-bad-to-en/checkpoint-300/tokenizer_config.json\n",
      "Special tokens file saved in opus-mt-rbg-bad-to-en/checkpoint-300/special_tokens_map.json\n",
      "Saving model checkpoint to opus-mt-rbg-bad-to-en/checkpoint-400\n",
      "Configuration saved in opus-mt-rbg-bad-to-en/checkpoint-400/config.json\n",
      "Model weights saved in opus-mt-rbg-bad-to-en/checkpoint-400/pytorch_model.bin\n",
      "tokenizer config file saved in opus-mt-rbg-bad-to-en/checkpoint-400/tokenizer_config.json\n",
      "Special tokens file saved in opus-mt-rbg-bad-to-en/checkpoint-400/special_tokens_map.json\n",
      "Deleting older checkpoint [opus-mt-rbg-bad-to-en/checkpoint-100] due to args.save_total_limit\n",
      "The following columns in the evaluation set  don't have a corresponding argument in `MarianMTModel.forward` and have been ignored: translation.\n",
      "***** Running Evaluation *****\n",
      "  Num examples = 1470\n",
      "  Batch size = 16\n",
      "Saving model checkpoint to opus-mt-rbg-bad-to-en/checkpoint-500\n",
      "Configuration saved in opus-mt-rbg-bad-to-en/checkpoint-500/config.json\n",
      "Model weights saved in opus-mt-rbg-bad-to-en/checkpoint-500/pytorch_model.bin\n",
      "tokenizer config file saved in opus-mt-rbg-bad-to-en/checkpoint-500/tokenizer_config.json\n",
      "Special tokens file saved in opus-mt-rbg-bad-to-en/checkpoint-500/special_tokens_map.json\n",
      "Deleting older checkpoint [opus-mt-rbg-bad-to-en/checkpoint-200] due to args.save_total_limit\n",
      "Saving model checkpoint to opus-mt-rbg-bad-to-en/checkpoint-600\n",
      "Configuration saved in opus-mt-rbg-bad-to-en/checkpoint-600/config.json\n",
      "Model weights saved in opus-mt-rbg-bad-to-en/checkpoint-600/pytorch_model.bin\n",
      "tokenizer config file saved in opus-mt-rbg-bad-to-en/checkpoint-600/tokenizer_config.json\n",
      "Special tokens file saved in opus-mt-rbg-bad-to-en/checkpoint-600/special_tokens_map.json\n",
      "Deleting older checkpoint [opus-mt-rbg-bad-to-en/checkpoint-300] due to args.save_total_limit\n",
      "Saving model checkpoint to opus-mt-rbg-bad-to-en/checkpoint-700\n",
      "Configuration saved in opus-mt-rbg-bad-to-en/checkpoint-700/config.json\n",
      "Model weights saved in opus-mt-rbg-bad-to-en/checkpoint-700/pytorch_model.bin\n",
      "tokenizer config file saved in opus-mt-rbg-bad-to-en/checkpoint-700/tokenizer_config.json\n",
      "Special tokens file saved in opus-mt-rbg-bad-to-en/checkpoint-700/special_tokens_map.json\n",
      "Deleting older checkpoint [opus-mt-rbg-bad-to-en/checkpoint-400] due to args.save_total_limit\n",
      "Saving model checkpoint to opus-mt-rbg-bad-to-en/checkpoint-800\n",
      "Configuration saved in opus-mt-rbg-bad-to-en/checkpoint-800/config.json\n",
      "Model weights saved in opus-mt-rbg-bad-to-en/checkpoint-800/pytorch_model.bin\n",
      "tokenizer config file saved in opus-mt-rbg-bad-to-en/checkpoint-800/tokenizer_config.json\n",
      "Special tokens file saved in opus-mt-rbg-bad-to-en/checkpoint-800/special_tokens_map.json\n",
      "Deleting older checkpoint [opus-mt-rbg-bad-to-en/checkpoint-500] due to args.save_total_limit\n",
      "The following columns in the evaluation set  don't have a corresponding argument in `MarianMTModel.forward` and have been ignored: translation.\n",
      "***** Running Evaluation *****\n",
      "  Num examples = 1470\n",
      "  Batch size = 16\n",
      "Saving model checkpoint to opus-mt-rbg-bad-to-en/checkpoint-900\n",
      "Configuration saved in opus-mt-rbg-bad-to-en/checkpoint-900/config.json\n",
      "Model weights saved in opus-mt-rbg-bad-to-en/checkpoint-900/pytorch_model.bin\n",
      "tokenizer config file saved in opus-mt-rbg-bad-to-en/checkpoint-900/tokenizer_config.json\n",
      "Special tokens file saved in opus-mt-rbg-bad-to-en/checkpoint-900/special_tokens_map.json\n",
      "Deleting older checkpoint [opus-mt-rbg-bad-to-en/checkpoint-600] due to args.save_total_limit\n",
      "Saving model checkpoint to opus-mt-rbg-bad-to-en/checkpoint-1000\n",
      "Configuration saved in opus-mt-rbg-bad-to-en/checkpoint-1000/config.json\n",
      "Model weights saved in opus-mt-rbg-bad-to-en/checkpoint-1000/pytorch_model.bin\n",
      "tokenizer config file saved in opus-mt-rbg-bad-to-en/checkpoint-1000/tokenizer_config.json\n",
      "Special tokens file saved in opus-mt-rbg-bad-to-en/checkpoint-1000/special_tokens_map.json\n",
      "Deleting older checkpoint [opus-mt-rbg-bad-to-en/checkpoint-700] due to args.save_total_limit\n",
      "Saving model checkpoint to opus-mt-rbg-bad-to-en/checkpoint-1100\n",
      "Configuration saved in opus-mt-rbg-bad-to-en/checkpoint-1100/config.json\n",
      "Model weights saved in opus-mt-rbg-bad-to-en/checkpoint-1100/pytorch_model.bin\n",
      "tokenizer config file saved in opus-mt-rbg-bad-to-en/checkpoint-1100/tokenizer_config.json\n",
      "Special tokens file saved in opus-mt-rbg-bad-to-en/checkpoint-1100/special_tokens_map.json\n",
      "Deleting older checkpoint [opus-mt-rbg-bad-to-en/checkpoint-800] due to args.save_total_limit\n",
      "Saving model checkpoint to opus-mt-rbg-bad-to-en/checkpoint-1200\n",
      "Configuration saved in opus-mt-rbg-bad-to-en/checkpoint-1200/config.json\n",
      "Model weights saved in opus-mt-rbg-bad-to-en/checkpoint-1200/pytorch_model.bin\n",
      "tokenizer config file saved in opus-mt-rbg-bad-to-en/checkpoint-1200/tokenizer_config.json\n",
      "Special tokens file saved in opus-mt-rbg-bad-to-en/checkpoint-1200/special_tokens_map.json\n",
      "Deleting older checkpoint [opus-mt-rbg-bad-to-en/checkpoint-900] due to args.save_total_limit\n",
      "The following columns in the evaluation set  don't have a corresponding argument in `MarianMTModel.forward` and have been ignored: translation.\n",
      "***** Running Evaluation *****\n",
      "  Num examples = 1470\n",
      "  Batch size = 16\n",
      "Saving model checkpoint to opus-mt-rbg-bad-to-en/checkpoint-1300\n",
      "Configuration saved in opus-mt-rbg-bad-to-en/checkpoint-1300/config.json\n",
      "Model weights saved in opus-mt-rbg-bad-to-en/checkpoint-1300/pytorch_model.bin\n",
      "tokenizer config file saved in opus-mt-rbg-bad-to-en/checkpoint-1300/tokenizer_config.json\n",
      "Special tokens file saved in opus-mt-rbg-bad-to-en/checkpoint-1300/special_tokens_map.json\n",
      "Deleting older checkpoint [opus-mt-rbg-bad-to-en/checkpoint-1000] due to args.save_total_limit\n",
      "Saving model checkpoint to opus-mt-rbg-bad-to-en/checkpoint-1400\n",
      "Configuration saved in opus-mt-rbg-bad-to-en/checkpoint-1400/config.json\n",
      "Model weights saved in opus-mt-rbg-bad-to-en/checkpoint-1400/pytorch_model.bin\n",
      "tokenizer config file saved in opus-mt-rbg-bad-to-en/checkpoint-1400/tokenizer_config.json\n",
      "Special tokens file saved in opus-mt-rbg-bad-to-en/checkpoint-1400/special_tokens_map.json\n",
      "Deleting older checkpoint [opus-mt-rbg-bad-to-en/checkpoint-1100] due to args.save_total_limit\n",
      "Saving model checkpoint to opus-mt-rbg-bad-to-en/checkpoint-1500\n",
      "Configuration saved in opus-mt-rbg-bad-to-en/checkpoint-1500/config.json\n",
      "Model weights saved in opus-mt-rbg-bad-to-en/checkpoint-1500/pytorch_model.bin\n",
      "tokenizer config file saved in opus-mt-rbg-bad-to-en/checkpoint-1500/tokenizer_config.json\n",
      "Special tokens file saved in opus-mt-rbg-bad-to-en/checkpoint-1500/special_tokens_map.json\n",
      "Deleting older checkpoint [opus-mt-rbg-bad-to-en/checkpoint-1200] due to args.save_total_limit\n",
      "Saving model checkpoint to opus-mt-rbg-bad-to-en/checkpoint-1600\n",
      "Configuration saved in opus-mt-rbg-bad-to-en/checkpoint-1600/config.json\n",
      "Model weights saved in opus-mt-rbg-bad-to-en/checkpoint-1600/pytorch_model.bin\n",
      "tokenizer config file saved in opus-mt-rbg-bad-to-en/checkpoint-1600/tokenizer_config.json\n",
      "Special tokens file saved in opus-mt-rbg-bad-to-en/checkpoint-1600/special_tokens_map.json\n",
      "Deleting older checkpoint [opus-mt-rbg-bad-to-en/checkpoint-1300] due to args.save_total_limit\n"
     ]
    },
    {
     "name": "stderr",
     "output_type": "stream",
     "text": [
      "Saving model checkpoint to opus-mt-rbg-bad-to-en/checkpoint-1700\n",
      "Configuration saved in opus-mt-rbg-bad-to-en/checkpoint-1700/config.json\n",
      "Model weights saved in opus-mt-rbg-bad-to-en/checkpoint-1700/pytorch_model.bin\n",
      "tokenizer config file saved in opus-mt-rbg-bad-to-en/checkpoint-1700/tokenizer_config.json\n",
      "Special tokens file saved in opus-mt-rbg-bad-to-en/checkpoint-1700/special_tokens_map.json\n",
      "Deleting older checkpoint [opus-mt-rbg-bad-to-en/checkpoint-1400] due to args.save_total_limit\n",
      "The following columns in the evaluation set  don't have a corresponding argument in `MarianMTModel.forward` and have been ignored: translation.\n",
      "***** Running Evaluation *****\n",
      "  Num examples = 1470\n",
      "  Batch size = 16\n",
      "Saving model checkpoint to opus-mt-rbg-bad-to-en/checkpoint-1800\n",
      "Configuration saved in opus-mt-rbg-bad-to-en/checkpoint-1800/config.json\n",
      "Model weights saved in opus-mt-rbg-bad-to-en/checkpoint-1800/pytorch_model.bin\n",
      "tokenizer config file saved in opus-mt-rbg-bad-to-en/checkpoint-1800/tokenizer_config.json\n",
      "Special tokens file saved in opus-mt-rbg-bad-to-en/checkpoint-1800/special_tokens_map.json\n",
      "Deleting older checkpoint [opus-mt-rbg-bad-to-en/checkpoint-1500] due to args.save_total_limit\n",
      "Saving model checkpoint to opus-mt-rbg-bad-to-en/checkpoint-1900\n",
      "Configuration saved in opus-mt-rbg-bad-to-en/checkpoint-1900/config.json\n",
      "Model weights saved in opus-mt-rbg-bad-to-en/checkpoint-1900/pytorch_model.bin\n",
      "tokenizer config file saved in opus-mt-rbg-bad-to-en/checkpoint-1900/tokenizer_config.json\n",
      "Special tokens file saved in opus-mt-rbg-bad-to-en/checkpoint-1900/special_tokens_map.json\n",
      "Deleting older checkpoint [opus-mt-rbg-bad-to-en/checkpoint-1600] due to args.save_total_limit\n",
      "Saving model checkpoint to opus-mt-rbg-bad-to-en/checkpoint-2000\n",
      "Configuration saved in opus-mt-rbg-bad-to-en/checkpoint-2000/config.json\n",
      "Model weights saved in opus-mt-rbg-bad-to-en/checkpoint-2000/pytorch_model.bin\n",
      "tokenizer config file saved in opus-mt-rbg-bad-to-en/checkpoint-2000/tokenizer_config.json\n",
      "Special tokens file saved in opus-mt-rbg-bad-to-en/checkpoint-2000/special_tokens_map.json\n",
      "Deleting older checkpoint [opus-mt-rbg-bad-to-en/checkpoint-1700] due to args.save_total_limit\n",
      "Saving model checkpoint to opus-mt-rbg-bad-to-en/checkpoint-2100\n",
      "Configuration saved in opus-mt-rbg-bad-to-en/checkpoint-2100/config.json\n",
      "Model weights saved in opus-mt-rbg-bad-to-en/checkpoint-2100/pytorch_model.bin\n",
      "tokenizer config file saved in opus-mt-rbg-bad-to-en/checkpoint-2100/tokenizer_config.json\n",
      "Special tokens file saved in opus-mt-rbg-bad-to-en/checkpoint-2100/special_tokens_map.json\n",
      "Deleting older checkpoint [opus-mt-rbg-bad-to-en/checkpoint-1800] due to args.save_total_limit\n",
      "The following columns in the evaluation set  don't have a corresponding argument in `MarianMTModel.forward` and have been ignored: translation.\n",
      "***** Running Evaluation *****\n",
      "  Num examples = 1470\n",
      "  Batch size = 16\n",
      "Saving model checkpoint to opus-mt-rbg-bad-to-en/checkpoint-2200\n",
      "Configuration saved in opus-mt-rbg-bad-to-en/checkpoint-2200/config.json\n",
      "Model weights saved in opus-mt-rbg-bad-to-en/checkpoint-2200/pytorch_model.bin\n",
      "tokenizer config file saved in opus-mt-rbg-bad-to-en/checkpoint-2200/tokenizer_config.json\n",
      "Special tokens file saved in opus-mt-rbg-bad-to-en/checkpoint-2200/special_tokens_map.json\n",
      "Deleting older checkpoint [opus-mt-rbg-bad-to-en/checkpoint-1900] due to args.save_total_limit\n",
      "Saving model checkpoint to opus-mt-rbg-bad-to-en/checkpoint-2300\n",
      "Configuration saved in opus-mt-rbg-bad-to-en/checkpoint-2300/config.json\n",
      "Model weights saved in opus-mt-rbg-bad-to-en/checkpoint-2300/pytorch_model.bin\n",
      "tokenizer config file saved in opus-mt-rbg-bad-to-en/checkpoint-2300/tokenizer_config.json\n",
      "Special tokens file saved in opus-mt-rbg-bad-to-en/checkpoint-2300/special_tokens_map.json\n",
      "Deleting older checkpoint [opus-mt-rbg-bad-to-en/checkpoint-2000] due to args.save_total_limit\n",
      "Saving model checkpoint to opus-mt-rbg-bad-to-en/checkpoint-2400\n",
      "Configuration saved in opus-mt-rbg-bad-to-en/checkpoint-2400/config.json\n",
      "Model weights saved in opus-mt-rbg-bad-to-en/checkpoint-2400/pytorch_model.bin\n",
      "tokenizer config file saved in opus-mt-rbg-bad-to-en/checkpoint-2400/tokenizer_config.json\n",
      "Special tokens file saved in opus-mt-rbg-bad-to-en/checkpoint-2400/special_tokens_map.json\n",
      "Deleting older checkpoint [opus-mt-rbg-bad-to-en/checkpoint-2100] due to args.save_total_limit\n",
      "Saving model checkpoint to opus-mt-rbg-bad-to-en/checkpoint-2500\n",
      "Configuration saved in opus-mt-rbg-bad-to-en/checkpoint-2500/config.json\n",
      "Model weights saved in opus-mt-rbg-bad-to-en/checkpoint-2500/pytorch_model.bin\n",
      "tokenizer config file saved in opus-mt-rbg-bad-to-en/checkpoint-2500/tokenizer_config.json\n",
      "Special tokens file saved in opus-mt-rbg-bad-to-en/checkpoint-2500/special_tokens_map.json\n",
      "Deleting older checkpoint [opus-mt-rbg-bad-to-en/checkpoint-2200] due to args.save_total_limit\n",
      "The following columns in the evaluation set  don't have a corresponding argument in `MarianMTModel.forward` and have been ignored: translation.\n",
      "***** Running Evaluation *****\n",
      "  Num examples = 1470\n",
      "  Batch size = 16\n",
      "Saving model checkpoint to opus-mt-rbg-bad-to-en/checkpoint-2600\n",
      "Configuration saved in opus-mt-rbg-bad-to-en/checkpoint-2600/config.json\n",
      "Model weights saved in opus-mt-rbg-bad-to-en/checkpoint-2600/pytorch_model.bin\n",
      "tokenizer config file saved in opus-mt-rbg-bad-to-en/checkpoint-2600/tokenizer_config.json\n",
      "Special tokens file saved in opus-mt-rbg-bad-to-en/checkpoint-2600/special_tokens_map.json\n",
      "Deleting older checkpoint [opus-mt-rbg-bad-to-en/checkpoint-2300] due to args.save_total_limit\n",
      "Saving model checkpoint to opus-mt-rbg-bad-to-en/checkpoint-2700\n",
      "Configuration saved in opus-mt-rbg-bad-to-en/checkpoint-2700/config.json\n",
      "Model weights saved in opus-mt-rbg-bad-to-en/checkpoint-2700/pytorch_model.bin\n",
      "tokenizer config file saved in opus-mt-rbg-bad-to-en/checkpoint-2700/tokenizer_config.json\n",
      "Special tokens file saved in opus-mt-rbg-bad-to-en/checkpoint-2700/special_tokens_map.json\n",
      "Deleting older checkpoint [opus-mt-rbg-bad-to-en/checkpoint-2400] due to args.save_total_limit\n",
      "Saving model checkpoint to opus-mt-rbg-bad-to-en/checkpoint-2800\n",
      "Configuration saved in opus-mt-rbg-bad-to-en/checkpoint-2800/config.json\n",
      "Model weights saved in opus-mt-rbg-bad-to-en/checkpoint-2800/pytorch_model.bin\n",
      "tokenizer config file saved in opus-mt-rbg-bad-to-en/checkpoint-2800/tokenizer_config.json\n",
      "Special tokens file saved in opus-mt-rbg-bad-to-en/checkpoint-2800/special_tokens_map.json\n",
      "Deleting older checkpoint [opus-mt-rbg-bad-to-en/checkpoint-2500] due to args.save_total_limit\n",
      "Saving model checkpoint to opus-mt-rbg-bad-to-en/checkpoint-2900\n",
      "Configuration saved in opus-mt-rbg-bad-to-en/checkpoint-2900/config.json\n",
      "Model weights saved in opus-mt-rbg-bad-to-en/checkpoint-2900/pytorch_model.bin\n",
      "tokenizer config file saved in opus-mt-rbg-bad-to-en/checkpoint-2900/tokenizer_config.json\n",
      "Special tokens file saved in opus-mt-rbg-bad-to-en/checkpoint-2900/special_tokens_map.json\n",
      "Deleting older checkpoint [opus-mt-rbg-bad-to-en/checkpoint-2600] due to args.save_total_limit\n",
      "Saving model checkpoint to opus-mt-rbg-bad-to-en/checkpoint-3000\n",
      "Configuration saved in opus-mt-rbg-bad-to-en/checkpoint-3000/config.json\n",
      "Model weights saved in opus-mt-rbg-bad-to-en/checkpoint-3000/pytorch_model.bin\n",
      "tokenizer config file saved in opus-mt-rbg-bad-to-en/checkpoint-3000/tokenizer_config.json\n",
      "Special tokens file saved in opus-mt-rbg-bad-to-en/checkpoint-3000/special_tokens_map.json\n",
      "Deleting older checkpoint [opus-mt-rbg-bad-to-en/checkpoint-2700] due to args.save_total_limit\n",
      "The following columns in the evaluation set  don't have a corresponding argument in `MarianMTModel.forward` and have been ignored: translation.\n",
      "***** Running Evaluation *****\n",
      "  Num examples = 1470\n",
      "  Batch size = 16\n",
      "Saving model checkpoint to opus-mt-rbg-bad-to-en/checkpoint-3100\n",
      "Configuration saved in opus-mt-rbg-bad-to-en/checkpoint-3100/config.json\n",
      "Model weights saved in opus-mt-rbg-bad-to-en/checkpoint-3100/pytorch_model.bin\n",
      "tokenizer config file saved in opus-mt-rbg-bad-to-en/checkpoint-3100/tokenizer_config.json\n",
      "Special tokens file saved in opus-mt-rbg-bad-to-en/checkpoint-3100/special_tokens_map.json\n",
      "Deleting older checkpoint [opus-mt-rbg-bad-to-en/checkpoint-2800] due to args.save_total_limit\n"
     ]
    },
    {
     "name": "stderr",
     "output_type": "stream",
     "text": [
      "Saving model checkpoint to opus-mt-rbg-bad-to-en/checkpoint-3200\n",
      "Configuration saved in opus-mt-rbg-bad-to-en/checkpoint-3200/config.json\n",
      "Model weights saved in opus-mt-rbg-bad-to-en/checkpoint-3200/pytorch_model.bin\n",
      "tokenizer config file saved in opus-mt-rbg-bad-to-en/checkpoint-3200/tokenizer_config.json\n",
      "Special tokens file saved in opus-mt-rbg-bad-to-en/checkpoint-3200/special_tokens_map.json\n",
      "Deleting older checkpoint [opus-mt-rbg-bad-to-en/checkpoint-2900] due to args.save_total_limit\n",
      "Saving model checkpoint to opus-mt-rbg-bad-to-en/checkpoint-3300\n",
      "Configuration saved in opus-mt-rbg-bad-to-en/checkpoint-3300/config.json\n",
      "Model weights saved in opus-mt-rbg-bad-to-en/checkpoint-3300/pytorch_model.bin\n",
      "tokenizer config file saved in opus-mt-rbg-bad-to-en/checkpoint-3300/tokenizer_config.json\n",
      "Special tokens file saved in opus-mt-rbg-bad-to-en/checkpoint-3300/special_tokens_map.json\n",
      "Deleting older checkpoint [opus-mt-rbg-bad-to-en/checkpoint-3000] due to args.save_total_limit\n",
      "Saving model checkpoint to opus-mt-rbg-bad-to-en/checkpoint-3400\n",
      "Configuration saved in opus-mt-rbg-bad-to-en/checkpoint-3400/config.json\n",
      "Model weights saved in opus-mt-rbg-bad-to-en/checkpoint-3400/pytorch_model.bin\n",
      "tokenizer config file saved in opus-mt-rbg-bad-to-en/checkpoint-3400/tokenizer_config.json\n",
      "Special tokens file saved in opus-mt-rbg-bad-to-en/checkpoint-3400/special_tokens_map.json\n",
      "Deleting older checkpoint [opus-mt-rbg-bad-to-en/checkpoint-3100] due to args.save_total_limit\n",
      "The following columns in the evaluation set  don't have a corresponding argument in `MarianMTModel.forward` and have been ignored: translation.\n",
      "***** Running Evaluation *****\n",
      "  Num examples = 1470\n",
      "  Batch size = 16\n",
      "Saving model checkpoint to opus-mt-rbg-bad-to-en/checkpoint-3500\n",
      "Configuration saved in opus-mt-rbg-bad-to-en/checkpoint-3500/config.json\n",
      "Model weights saved in opus-mt-rbg-bad-to-en/checkpoint-3500/pytorch_model.bin\n",
      "tokenizer config file saved in opus-mt-rbg-bad-to-en/checkpoint-3500/tokenizer_config.json\n",
      "Special tokens file saved in opus-mt-rbg-bad-to-en/checkpoint-3500/special_tokens_map.json\n",
      "Deleting older checkpoint [opus-mt-rbg-bad-to-en/checkpoint-3200] due to args.save_total_limit\n",
      "Saving model checkpoint to opus-mt-rbg-bad-to-en/checkpoint-3600\n",
      "Configuration saved in opus-mt-rbg-bad-to-en/checkpoint-3600/config.json\n",
      "Model weights saved in opus-mt-rbg-bad-to-en/checkpoint-3600/pytorch_model.bin\n",
      "tokenizer config file saved in opus-mt-rbg-bad-to-en/checkpoint-3600/tokenizer_config.json\n",
      "Special tokens file saved in opus-mt-rbg-bad-to-en/checkpoint-3600/special_tokens_map.json\n",
      "Deleting older checkpoint [opus-mt-rbg-bad-to-en/checkpoint-3300] due to args.save_total_limit\n",
      "Saving model checkpoint to opus-mt-rbg-bad-to-en/checkpoint-3700\n",
      "Configuration saved in opus-mt-rbg-bad-to-en/checkpoint-3700/config.json\n",
      "Model weights saved in opus-mt-rbg-bad-to-en/checkpoint-3700/pytorch_model.bin\n",
      "tokenizer config file saved in opus-mt-rbg-bad-to-en/checkpoint-3700/tokenizer_config.json\n",
      "Special tokens file saved in opus-mt-rbg-bad-to-en/checkpoint-3700/special_tokens_map.json\n",
      "Deleting older checkpoint [opus-mt-rbg-bad-to-en/checkpoint-3400] due to args.save_total_limit\n",
      "Saving model checkpoint to opus-mt-rbg-bad-to-en/checkpoint-3800\n",
      "Configuration saved in opus-mt-rbg-bad-to-en/checkpoint-3800/config.json\n",
      "Model weights saved in opus-mt-rbg-bad-to-en/checkpoint-3800/pytorch_model.bin\n",
      "tokenizer config file saved in opus-mt-rbg-bad-to-en/checkpoint-3800/tokenizer_config.json\n",
      "Special tokens file saved in opus-mt-rbg-bad-to-en/checkpoint-3800/special_tokens_map.json\n",
      "Deleting older checkpoint [opus-mt-rbg-bad-to-en/checkpoint-3500] due to args.save_total_limit\n",
      "The following columns in the evaluation set  don't have a corresponding argument in `MarianMTModel.forward` and have been ignored: translation.\n",
      "***** Running Evaluation *****\n",
      "  Num examples = 1470\n",
      "  Batch size = 16\n",
      "Saving model checkpoint to opus-mt-rbg-bad-to-en/checkpoint-3900\n",
      "Configuration saved in opus-mt-rbg-bad-to-en/checkpoint-3900/config.json\n",
      "Model weights saved in opus-mt-rbg-bad-to-en/checkpoint-3900/pytorch_model.bin\n",
      "tokenizer config file saved in opus-mt-rbg-bad-to-en/checkpoint-3900/tokenizer_config.json\n",
      "Special tokens file saved in opus-mt-rbg-bad-to-en/checkpoint-3900/special_tokens_map.json\n",
      "Deleting older checkpoint [opus-mt-rbg-bad-to-en/checkpoint-3600] due to args.save_total_limit\n",
      "Saving model checkpoint to opus-mt-rbg-bad-to-en/checkpoint-4000\n",
      "Configuration saved in opus-mt-rbg-bad-to-en/checkpoint-4000/config.json\n",
      "Model weights saved in opus-mt-rbg-bad-to-en/checkpoint-4000/pytorch_model.bin\n",
      "tokenizer config file saved in opus-mt-rbg-bad-to-en/checkpoint-4000/tokenizer_config.json\n",
      "Special tokens file saved in opus-mt-rbg-bad-to-en/checkpoint-4000/special_tokens_map.json\n",
      "Deleting older checkpoint [opus-mt-rbg-bad-to-en/checkpoint-3700] due to args.save_total_limit\n",
      "Saving model checkpoint to opus-mt-rbg-bad-to-en/checkpoint-4100\n",
      "Configuration saved in opus-mt-rbg-bad-to-en/checkpoint-4100/config.json\n",
      "Model weights saved in opus-mt-rbg-bad-to-en/checkpoint-4100/pytorch_model.bin\n",
      "tokenizer config file saved in opus-mt-rbg-bad-to-en/checkpoint-4100/tokenizer_config.json\n",
      "Special tokens file saved in opus-mt-rbg-bad-to-en/checkpoint-4100/special_tokens_map.json\n",
      "Deleting older checkpoint [opus-mt-rbg-bad-to-en/checkpoint-3800] due to args.save_total_limit\n",
      "Saving model checkpoint to opus-mt-rbg-bad-to-en/checkpoint-4200\n",
      "Configuration saved in opus-mt-rbg-bad-to-en/checkpoint-4200/config.json\n",
      "Model weights saved in opus-mt-rbg-bad-to-en/checkpoint-4200/pytorch_model.bin\n",
      "tokenizer config file saved in opus-mt-rbg-bad-to-en/checkpoint-4200/tokenizer_config.json\n",
      "Special tokens file saved in opus-mt-rbg-bad-to-en/checkpoint-4200/special_tokens_map.json\n",
      "Deleting older checkpoint [opus-mt-rbg-bad-to-en/checkpoint-3900] due to args.save_total_limit\n",
      "Saving model checkpoint to opus-mt-rbg-bad-to-en/checkpoint-4300\n",
      "Configuration saved in opus-mt-rbg-bad-to-en/checkpoint-4300/config.json\n",
      "Model weights saved in opus-mt-rbg-bad-to-en/checkpoint-4300/pytorch_model.bin\n",
      "tokenizer config file saved in opus-mt-rbg-bad-to-en/checkpoint-4300/tokenizer_config.json\n",
      "Special tokens file saved in opus-mt-rbg-bad-to-en/checkpoint-4300/special_tokens_map.json\n",
      "Deleting older checkpoint [opus-mt-rbg-bad-to-en/checkpoint-4000] due to args.save_total_limit\n",
      "The following columns in the evaluation set  don't have a corresponding argument in `MarianMTModel.forward` and have been ignored: translation.\n",
      "***** Running Evaluation *****\n",
      "  Num examples = 1470\n",
      "  Batch size = 16\n",
      "\n",
      "\n",
      "Training completed. Do not forget to share your model on huggingface.co/models =)\n",
      "\n",
      "\n"
     ]
    },
    {
     "data": {
      "text/plain": [
       "TrainOutput(global_step=4310, training_loss=0.7897945875634726, metrics={'train_runtime': 5546.5191, 'train_samples_per_second': 12.431, 'train_steps_per_second': 0.777, 'total_flos': 709403529904128.0, 'train_loss': 0.7897945875634726, 'epoch': 10.0})"
      ]
     },
     "execution_count": 28,
     "metadata": {},
     "output_type": "execute_result"
    }
   ],
   "source": [
    "trainer.train()"
   ]
  }
 ],
 "metadata": {
  "kernelspec": {
   "display_name": "cp",
   "language": "python",
   "name": "corepool"
  },
  "language_info": {
   "codemirror_mode": {
    "name": "ipython",
    "version": 3
   },
   "file_extension": ".py",
   "mimetype": "text/x-python",
   "name": "python",
   "nbconvert_exporter": "python",
   "pygments_lexer": "ipython3",
   "version": "3.8.0"
  }
 },
 "nbformat": 4,
 "nbformat_minor": 5
}
